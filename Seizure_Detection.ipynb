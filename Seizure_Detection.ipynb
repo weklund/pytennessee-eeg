{
 "cells": [
  {
   "cell_type": "code",
   "execution_count": 5,
   "metadata": {},
   "outputs": [
    {
     "data": {
      "text/plain": [
       "True"
      ]
     },
     "execution_count": 5,
     "metadata": {},
     "output_type": "execute_result"
    }
   ],
   "source": [
    "import torch\n",
    "\n",
    "torch.cuda.is_available()\n"
   ]
  },
  {
   "cell_type": "code",
   "execution_count": 30,
   "metadata": {},
   "outputs": [],
   "source": [
    "import pyedflib\n",
    "import numpy as np\n",
    "import matplotlib.pyplot as plt\n",
    "import tqdm\n",
    "import pandas as pd\n",
    "import scipy\n",
    "import os"
   ]
  },
  {
   "cell_type": "markdown",
   "metadata": {},
   "source": [
    "## Check if Dataset is available"
   ]
  },
  {
   "cell_type": "code",
   "execution_count": 8,
   "metadata": {},
   "outputs": [
    {
     "data": {
      "text/plain": [
       "{0: 'EEG FP1-REF',\n",
       " 1: 'EEG FP2-REF',\n",
       " 2: 'EEG F3-REF',\n",
       " 3: 'EEG F4-REF',\n",
       " 4: 'EEG C3-REF',\n",
       " 5: 'EEG C4-REF',\n",
       " 6: 'EEG P3-REF',\n",
       " 7: 'EEG P4-REF',\n",
       " 8: 'EEG O1-REF',\n",
       " 9: 'EEG O2-REF',\n",
       " 10: 'EEG F7-REF',\n",
       " 11: 'EEG F8-REF',\n",
       " 12: 'EEG T3-REF',\n",
       " 13: 'EEG T4-REF',\n",
       " 14: 'EEG T5-REF',\n",
       " 15: 'EEG T6-REF',\n",
       " 16: 'EEG A1-REF',\n",
       " 17: 'EEG A2-REF',\n",
       " 18: 'EEG FZ-REF',\n",
       " 19: 'EEG CZ-REF',\n",
       " 20: 'EEG PZ-REF',\n",
       " 21: 'EEG ROC-REF',\n",
       " 22: 'EEG LOC-REF',\n",
       " 23: 'EEG EKG1-REF',\n",
       " 24: 'EEG T1-REF',\n",
       " 25: 'EEG T2-REF',\n",
       " 26: 'PHOTIC-REF',\n",
       " 27: 'IBI',\n",
       " 28: 'BURSTS',\n",
       " 29: 'SUPPR'}"
      ]
     },
     "execution_count": 8,
     "metadata": {},
     "output_type": "execute_result"
    }
   ],
   "source": [
    "f = pyedflib.EdfReader(\"./data/edf/train/01_tcp_ar/100/00010061/s001_2013_03_30/00010061_s001_t000.edf\")\n",
    "n = f.signals_in_file\n",
    "signal_labels = f.getSignalLabels()\n",
    "\n",
    "dict(zip(np.arange(0, len(signal_labels)), signal_labels))"
   ]
  },
  {
   "cell_type": "markdown",
   "metadata": {},
   "source": [
    "# Exploratory Data Analysis\n",
    "\n",
    "\n",
    "## EDF file meta data"
   ]
  },
  {
   "cell_type": "code",
   "execution_count": 34,
   "metadata": {},
   "outputs": [
    {
     "name": "stdout",
     "output_type": "stream",
     "text": [
      "\n",
      "library version: 0.1.14\n",
      "\n",
      "general header:\n",
      "\n",
      "edfsignals: 30\n",
      "file duration: 1392 seconds\n",
      "startdate: 30-3-2013\n",
      "starttime: 16:23:41\n",
      "recording: \n",
      "patientcode: \n",
      "gender: \n",
      "birthdate: \n",
      "patient_name: \n",
      "patient_additional: \n",
      "admincode: \n",
      "technician: \n",
      "equipment: \n",
      "recording_additional: \n",
      "datarecord duration: 1392.000000 seconds\n",
      "number of datarecords in the file: 1392\n",
      "number of annotations in the file: 0\n"
     ]
    }
   ],
   "source": [
    "print(\"\\nlibrary version: %s\" % pyedflib.version.version)\n",
    "\n",
    "print(\"\\ngeneral header:\\n\")\n",
    "\n",
    "\n",
    "print(\"edfsignals: %i\" % f.signals_in_file)\n",
    "print(\"file duration: %i seconds\" % f.file_duration)\n",
    "print(\"startdate: %i-%i-%i\" % (f.getStartdatetime().day,f.getStartdatetime().month,f.getStartdatetime().year))\n",
    "print(\"starttime: %i:%02i:%02i\" % (f.getStartdatetime().hour,f.getStartdatetime().minute,f.getStartdatetime().second))\n",
    "print(\"recording: %s\" % f.getPatientAdditional())\n",
    "print(\"patientcode: %s\" % f.getPatientCode())\n",
    "print(\"gender: %s\" % f.getGender())\n",
    "print(\"birthdate: %s\" % f.getBirthdate())\n",
    "print(\"patient_name: %s\" % f.getPatientName())\n",
    "print(\"patient_additional: %s\" % f.getPatientAdditional())\n",
    "print(\"admincode: %s\" % f.getAdmincode())\n",
    "print(\"technician: %s\" % f.getTechnician())\n",
    "print(\"equipment: %s\" % f.getEquipment())\n",
    "print(\"recording_additional: %s\" % f.getRecordingAdditional())\n",
    "print(\"datarecord duration: %f seconds\" % f.getFileDuration())\n",
    "print(\"number of datarecords in the file: %i\" % f.datarecords_in_file)\n",
    "print(\"number of annotations in the file: %i\" % f.annotations_in_file)"
   ]
  },
  {
   "cell_type": "code",
   "execution_count": 40,
   "metadata": {},
   "outputs": [
    {
     "name": "stdout",
     "output_type": "stream",
     "text": [
      "\n",
      "signal parameters for the 3.channel:\n",
      "\n",
      "\n",
      "label: EEG F4-REF\n",
      "samples in file: 348000\n",
      "physical maximum: 4999.847000\n",
      "physical minimum: -4999.840000\n",
      "digital maximum: 32767\n",
      "digital minimum: -32767\n",
      "physical dimension: uV\n",
      "prefilter: HP:0.000 Hz LP:0.0 Hz N:0.0\n",
      "transducer: Unknown\n",
      "samplefrequency: 250.000000\n"
     ]
    }
   ],
   "source": [
    "channel = 3\n",
    "print(\"\\nsignal parameters for the %d.channel:\\n\\n\" % channel)\n",
    "\n",
    "print(\"label: %s\" % f.getLabel(channel))\n",
    "print(\"samples in file: %i\" % f.getNSamples()[channel])\n",
    "print(\"physical maximum: %f\" % f.getPhysicalMaximum(channel))\n",
    "print(\"physical minimum: %f\" % f.getPhysicalMinimum(channel))\n",
    "print(\"digital maximum: %i\" % f.getDigitalMaximum(channel))\n",
    "print(\"digital minimum: %i\" % f.getDigitalMinimum(channel))\n",
    "print(\"physical dimension: %s\" % f.getPhysicalDimension(channel))\n",
    "print(\"prefilter: %s\" % f.getPrefilter(channel))\n",
    "print(\"transducer: %s\" % f.getTransducer(channel))\n",
    "print(\"samplefrequency: %f\" % f.getSampleFrequency(channel))\n"
   ]
  },
  {
   "cell_type": "code",
   "execution_count": 37,
   "metadata": {},
   "outputs": [
    {
     "name": "stdout",
     "output_type": "stream",
     "text": [
      "read -1, less than 348000 requested!!!\n"
     ]
    },
    {
     "data": {
      "text/html": [
       "<div>\n",
       "<style scoped>\n",
       "    .dataframe tbody tr th:only-of-type {\n",
       "        vertical-align: middle;\n",
       "    }\n",
       "\n",
       "    .dataframe tbody tr th {\n",
       "        vertical-align: top;\n",
       "    }\n",
       "\n",
       "    .dataframe thead th {\n",
       "        text-align: right;\n",
       "    }\n",
       "</style>\n",
       "<table border=\"1\" class=\"dataframe\">\n",
       "  <thead>\n",
       "    <tr style=\"text-align: right;\">\n",
       "      <th></th>\n",
       "      <th>Flow</th>\n",
       "      <th>Time</th>\n",
       "    </tr>\n",
       "  </thead>\n",
       "  <tbody>\n",
       "    <tr>\n",
       "      <th>0</th>\n",
       "      <td>0.0</td>\n",
       "      <td>0.000</td>\n",
       "    </tr>\n",
       "    <tr>\n",
       "      <th>1</th>\n",
       "      <td>0.0</td>\n",
       "      <td>0.004</td>\n",
       "    </tr>\n",
       "    <tr>\n",
       "      <th>2</th>\n",
       "      <td>0.0</td>\n",
       "      <td>0.008</td>\n",
       "    </tr>\n",
       "    <tr>\n",
       "      <th>3</th>\n",
       "      <td>0.0</td>\n",
       "      <td>0.012</td>\n",
       "    </tr>\n",
       "    <tr>\n",
       "      <th>4</th>\n",
       "      <td>0.0</td>\n",
       "      <td>0.016</td>\n",
       "    </tr>\n",
       "  </tbody>\n",
       "</table>\n",
       "</div>"
      ],
      "text/plain": [
       "   Flow   Time\n",
       "0   0.0  0.000\n",
       "1   0.0  0.004\n",
       "2   0.0  0.008\n",
       "3   0.0  0.012\n",
       "4   0.0  0.016"
      ]
     },
     "execution_count": 37,
     "metadata": {},
     "output_type": "execute_result"
    }
   ],
   "source": [
    "sampling_freq=f.getSampleFrequency(8)\n",
    "signal_data=f.readSignal(8)\n",
    "\n",
    "#time \n",
    "t=np.arange(0,len(signal_data))/sampling_freq\n",
    "\n",
    "#dataframe of singal and time\n",
    "df= pd.DataFrame({'Flow': signal_data,'Time': t})\n",
    "df.head()"
   ]
  },
  {
   "cell_type": "code",
   "execution_count": 38,
   "metadata": {},
   "outputs": [
    {
     "data": {
      "image/png": "[encoded data removed]",
      "text/plain": [
       "<Figure size 864x864 with 1 Axes>"
      ]
     },
     "metadata": {
      "needs_background": "light"
     },
     "output_type": "display_data"
    }
   ],
   "source": [
    "import matplotlib.pyplot as plt\n",
    "\n",
    "%matplotlib inline\n",
    "\n",
    "plt.figure(figsize=(12, 12))\n",
    "for i in range(n-3):\n",
    "    plt.plot(np.arange(1, sigbufs.shape[1]+1), sigbufs[i])"
   ]
  },
  {
   "cell_type": "code",
   "execution_count": 44,
   "metadata": {},
   "outputs": [
    {
     "name": "stdout",
     "output_type": "stream",
     "text": [
      "read -1, less than 348000 requested!!!\n",
      "read -1, less than 348000 requested!!!\n",
      "read -1, less than 348000 requested!!!\n",
      "read -1, less than 348000 requested!!!\n",
      "read -1, less than 348000 requested!!!\n",
      "read -1, less than 348000 requested!!!\n",
      "read -1, less than 348000 requested!!!\n",
      "read -1, less than 348000 requested!!!\n",
      "read -1, less than 348000 requested!!!\n",
      "read -1, less than 348000 requested!!!\n",
      "read -1, less than 348000 requested!!!\n",
      "read -1, less than 348000 requested!!!\n",
      "read -1, less than 348000 requested!!!\n",
      "read -1, less than 348000 requested!!!\n",
      "read -1, less than 348000 requested!!!\n",
      "read -1, less than 348000 requested!!!\n",
      "read -1, less than 348000 requested!!!\n",
      "read -1, less than 348000 requested!!!\n",
      "read -1, less than 348000 requested!!!\n",
      "read -1, less than 348000 requested!!!\n",
      "read -1, less than 348000 requested!!!\n",
      "read -1, less than 348000 requested!!!\n",
      "read -1, less than 348000 requested!!!\n",
      "read -1, less than 348000 requested!!!\n",
      "read -1, less than 348000 requested!!!\n",
      "read -1, less than 348000 requested!!!\n",
      "read -1, less than 348000 requested!!!\n",
      "read -1, less than 1392 requested!!!\n",
      "read -1, less than 1392 requested!!!\n",
      "read -1, less than 1392 requested!!!\n"
     ]
    }
   ],
   "source": [
    "signal_labels = f.getSignalLabels()\n",
    "sigbufs = [np.zeros(f.getNSamples()[i]) for i in np.arange(n)]\n",
    "for i in np.arange(n):\n",
    "    sigbufs[i] = f.readSignal(i)"
   ]
  },
  {
   "cell_type": "code",
   "execution_count": 6,
   "metadata": {},
   "outputs": [],
   "source": [
    "from stacklineplot import stackplot"
   ]
  },
  {
   "cell_type": "code",
   "execution_count": 9,
   "metadata": {},
   "outputs": [
    {
     "ename": "ValueError",
     "evalue": "could not broadcast input array from shape (1392) into shape (2000)",
     "output_type": "error",
     "traceback": [
      "\u001b[1;31m---------------------------------------------------------------------------\u001b[0m",
      "\u001b[1;31mValueError\u001b[0m                                Traceback (most recent call last)",
      "\u001b[1;32m<ipython-input-9-09f1924bc54b>\u001b[0m in \u001b[0;36m<module>\u001b[1;34m\u001b[0m\n\u001b[0;32m     14\u001b[0m \u001b[0msigbufs_plot\u001b[0m \u001b[1;33m=\u001b[0m \u001b[0mnp\u001b[0m\u001b[1;33m.\u001b[0m\u001b[0mzeros\u001b[0m\u001b[1;33m(\u001b[0m\u001b[1;33m(\u001b[0m\u001b[0mn\u001b[0m\u001b[1;33m,\u001b[0m \u001b[0mn_plot\u001b[0m\u001b[1;33m)\u001b[0m\u001b[1;33m)\u001b[0m\u001b[1;33m\u001b[0m\u001b[1;33m\u001b[0m\u001b[0m\n\u001b[0;32m     15\u001b[0m \u001b[1;32mfor\u001b[0m \u001b[0mi\u001b[0m \u001b[1;32min\u001b[0m \u001b[0mnp\u001b[0m\u001b[1;33m.\u001b[0m\u001b[0marange\u001b[0m\u001b[1;33m(\u001b[0m\u001b[0mn\u001b[0m\u001b[1;33m)\u001b[0m\u001b[1;33m:\u001b[0m\u001b[1;33m\u001b[0m\u001b[1;33m\u001b[0m\u001b[0m\n\u001b[1;32m---> 16\u001b[1;33m     \u001b[0msigbufs_plot\u001b[0m\u001b[1;33m[\u001b[0m\u001b[0mi\u001b[0m\u001b[1;33m,\u001b[0m\u001b[1;33m:\u001b[0m\u001b[1;33m]\u001b[0m \u001b[1;33m=\u001b[0m \u001b[0msigbufs\u001b[0m\u001b[1;33m[\u001b[0m\u001b[0mi\u001b[0m\u001b[1;33m]\u001b[0m\u001b[1;33m[\u001b[0m\u001b[1;33m:\u001b[0m\u001b[0mn_plot\u001b[0m\u001b[1;33m]\u001b[0m\u001b[1;33m\u001b[0m\u001b[1;33m\u001b[0m\u001b[0m\n\u001b[0m\u001b[0;32m     17\u001b[0m \u001b[1;33m\u001b[0m\u001b[0m\n\u001b[0;32m     18\u001b[0m \u001b[0mstackplot\u001b[0m\u001b[1;33m(\u001b[0m\u001b[0msigbufs_plot\u001b[0m\u001b[1;33m[\u001b[0m\u001b[1;33m:\u001b[0m\u001b[1;33m,\u001b[0m \u001b[1;33m:\u001b[0m\u001b[0mn_plot\u001b[0m\u001b[1;33m]\u001b[0m\u001b[1;33m,\u001b[0m \u001b[0mylabels\u001b[0m\u001b[1;33m=\u001b[0m\u001b[0msignal_labels\u001b[0m\u001b[1;33m)\u001b[0m\u001b[1;33m\u001b[0m\u001b[1;33m\u001b[0m\u001b[0m\n",
      "\u001b[1;31mValueError\u001b[0m: could not broadcast input array from shape (1392) into shape (2000)"
     ]
    }
   ],
   "source": [
    "\n",
    "n = f.signals_in_file\n",
    "signal_labels = f.getSignalLabels()\n",
    "n_min = f.getNSamples()[0]\n",
    "sigbufs = [np.zeros(f.getNSamples()[i]) for i in np.arange(n)]\n",
    "for i in np.arange(n):\n",
    "    sigbufs[i] = f.readSignal(i)\n",
    "    if n_min < len(sigbufs[i]):\n",
    "        n_min = len(sigbufs[i])\n",
    "f._close()\n",
    "del f\n",
    "\n",
    "n_plot = np.min((n_min, 2000))\n",
    "sigbufs_plot = np.zeros((n, n_plot))\n",
    "for i in np.arange(n):\n",
    "    sigbufs_plot[i,:] = sigbufs[i][:n_plot]\n",
    "\n",
    "stackplot(sigbufs_plot[:, :n_plot], ylabels=signal_labels)"
   ]
  },
  {
   "cell_type": "code",
   "execution_count": null,
   "metadata": {},
   "outputs": [],
   "source": []
  }
 ],
 "metadata": {
  "kernelspec": {
   "display_name": "Python 3",
   "language": "python",
   "name": "python3"
  },
  "language_info": {
   "codemirror_mode": {
    "name": "ipython",
    "version": 3
   },
   "file_extension": ".py",
   "mimetype": "text/x-python",
   "name": "python",
   "nbconvert_exporter": "python",
   "pygments_lexer": "ipython3",
   "version": "3.7.2"
  }
 },
 "nbformat": 4,
 "nbformat_minor": 2
}
